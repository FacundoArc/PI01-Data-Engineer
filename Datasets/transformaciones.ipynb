{
 "metadata": {
  "language_info": {
   "codemirror_mode": {
    "name": "ipython",
    "version": 3
   },
   "file_extension": ".py",
   "mimetype": "text/x-python",
   "name": "python",
   "nbconvert_exporter": "python",
   "pygments_lexer": "ipython3",
   "version": "3.10.0-final"
  },
  "orig_nbformat": 2,
  "kernelspec": {
   "name": "python3",
   "display_name": "Python 3.10.0 64-bit",
   "metadata": {
    "interpreter": {
     "hash": "98590ff4fe04c8543246b2a01debd3de3c5ca9b666f43f1fa87d5110c692004c"
    }
   }
  }
 },
 "nbformat": 4,
 "nbformat_minor": 2,
 "cells": [
  {
   "source": [
    "LIBRERIAS NECESARIAS PARA TRANSFORMACIÓN DE DATOS"
   ],
   "cell_type": "markdown",
   "metadata": {}
  },
  {
   "cell_type": "code",
   "execution_count": 384,
   "metadata": {},
   "outputs": [],
   "source": [
    "import pandas as pd\n",
    "import numpy as np"
   ]
  },
  {
   "source": [
    "TRANSFORMACIÓN DATOS AMAZON"
   ],
   "cell_type": "markdown",
   "metadata": {}
  },
  {
   "cell_type": "code",
   "execution_count": 385,
   "metadata": {},
   "outputs": [],
   "source": [
    "# LEEMOS AMAZON PRIME COMMA SEPARATED VALUE FILE\n",
    "amazon_titles = pd.read_csv('amazon_prime_titles-score.csv',delimiter = ',',encoding = \"utf-8\")"
   ]
  },
  {
   "cell_type": "code",
   "execution_count": 386,
   "metadata": {},
   "outputs": [],
   "source": [
    "# Concateno columna de 'show_id' con prefijo 'a' para generar campo ID\n",
    "amazon_titles['id'] = 'a' + amazon_titles['show_id']"
   ]
  },
  {
   "cell_type": "code",
   "execution_count": 387,
   "metadata": {},
   "outputs": [],
   "source": [
    "# SE RELLENA LOS VALORES NULOS EN CAMPO RATING CON STRING 'G'\n",
    "amazon_titles['rating'].fillna('G', inplace=True)"
   ]
  },
  {
   "cell_type": "code",
   "execution_count": 388,
   "metadata": {},
   "outputs": [],
   "source": [
    "# SE UTILIZA .TO_DATETIME PARA CAMBIAR EL FORMATO DE LA COLUMNA 'DATE_ADDED'\n",
    "amazon_titles['date_added'] = pd.to_datetime(amazon_titles['date_added'], infer_datetime_format=True, errors='coerce')"
   ]
  },
  {
   "cell_type": "code",
   "execution_count": 389,
   "metadata": {},
   "outputs": [],
   "source": [
    "# AMAZON PRIME\n",
    "amazon_titles['id'] = amazon_titles['id'].str.lower()\n",
    "amazon_titles['type'] = amazon_titles['type'].str.lower()\n",
    "amazon_titles['title'] = amazon_titles['title'].str.lower()\n",
    "amazon_titles['director'] = amazon_titles['director'].str.lower()\n",
    "amazon_titles['cast'] = amazon_titles['cast'].str.lower()\n",
    "amazon_titles['country'] = amazon_titles['country'].str.lower()\n",
    "amazon_titles['rating'] = amazon_titles['rating'].str.lower()\n",
    "amazon_titles['listed_in'] = amazon_titles['listed_in'].str.lower()\n",
    "amazon_titles['description'] = amazon_titles['description'].str.lower()\n"
   ]
  },
  {
   "cell_type": "code",
   "execution_count": 390,
   "metadata": {},
   "outputs": [],
   "source": [
    "# DIVISION COLUMNA 'DURATION'\n",
    "amazon_titles[['duration_int', 'duration_type']] = amazon_titles['duration'].str.split(' ', n=-1, expand=True, regex=None)\n",
    "amazon_titles = amazon_titles[amazon_titles.columns[:10].tolist() + ['duration_int', 'duration_type'] + amazon_titles.columns[10:-2].tolist()]"
   ]
  },
  {
   "cell_type": "code",
   "execution_count": 391,
   "metadata": {},
   "outputs": [],
   "source": [
    "amazon_titles['duration_type']=amazon_titles['duration_type'].map({'Seasons':'season',\n",
    "'Season':'season',\n",
    "'min':'min'})\n"
   ]
  },
  {
   "cell_type": "code",
   "execution_count": 392,
   "metadata": {},
   "outputs": [],
   "source": [
    "\n",
    "#Agregar columna plataforma.\n",
    "\n",
    "amazon_titles['Plataforma'] = np.nan\n",
    "amazon_titles['Plataforma'].fillna('Amazon', inplace=True)\n",
    "amazon_titles.reset_index(drop=True, inplace=True)"
   ]
  },
  {
   "source": [
    "TRANSFORMACIÓN DISNEY PLUS"
   ],
   "cell_type": "markdown",
   "metadata": {}
  },
  {
   "cell_type": "code",
   "execution_count": 393,
   "metadata": {},
   "outputs": [],
   "source": [
    "# LEEMOS DISNEY PLUS COMMA SEPARATED VALUE FILE\n",
    "disney_titles = pd.read_csv('disney_plus_titles-score.csv',delimiter = ',',encoding = \"utf-8\")"
   ]
  },
  {
   "cell_type": "code",
   "execution_count": 394,
   "metadata": {},
   "outputs": [],
   "source": [
    "# Concateno columna de 'show_id' con prefijo 'a' para generar campo ID\n",
    "\n",
    "disney_titles['id'] = 'd' + disney_titles['show_id']"
   ]
  },
  {
   "cell_type": "code",
   "execution_count": 395,
   "metadata": {},
   "outputs": [],
   "source": [
    "# SE RELLENA LOS VALORES NULOS EN CAMPO RATING CON STRING 'G'\n",
    "\n",
    "disney_titles['rating'].fillna('G', inplace=True)"
   ]
  },
  {
   "cell_type": "code",
   "execution_count": 396,
   "metadata": {},
   "outputs": [],
   "source": [
    "# SE UTILIZA .TO_DATETIME PARA CAMBIAR EL FORMATO DE LA COLUMNA 'DATE_ADDED'\n",
    "disney_titles['date_added'] = pd.to_datetime(disney_titles['date_added'], infer_datetime_format=True, errors='coerce')\n"
   ]
  },
  {
   "cell_type": "code",
   "execution_count": 397,
   "metadata": {},
   "outputs": [],
   "source": [
    "# DISNEY PLUS - CAMPOS TEXTO A MINUSCULA\n",
    "disney_titles['id'] = disney_titles['id'].str.lower()\n",
    "disney_titles['type'] = disney_titles['type'].str.lower()\n",
    "disney_titles['title'] = disney_titles['title'].str.lower()\n",
    "disney_titles['director'] = disney_titles['director'].str.lower()\n",
    "disney_titles['cast'] = disney_titles['cast'].str.lower()\n",
    "disney_titles['country'] = disney_titles['country'].str.lower()\n",
    "disney_titles['rating'] = disney_titles['rating'].str.lower()\n",
    "disney_titles['listed_in'] = disney_titles['listed_in'].str.lower()\n",
    "disney_titles['description'] = disney_titles['description'].str.lower()\n"
   ]
  },
  {
   "cell_type": "code",
   "execution_count": 398,
   "metadata": {},
   "outputs": [],
   "source": [
    "# DIVISION COLUMNA 'DURATION'\n",
    "disney_titles[['duration_int', 'duration_type']] = disney_titles['duration'].str.split(' ', n=-1, expand=True, regex=None)\n",
    "disney_titles = disney_titles[disney_titles.columns[:10].tolist() + ['duration_int', 'duration_type'] + disney_titles.columns[10:-2].tolist()]"
   ]
  },
  {
   "cell_type": "code",
   "execution_count": 399,
   "metadata": {},
   "outputs": [],
   "source": [
    "#Agregar columna plataforma.\n",
    "\n",
    "disney_titles['Plataforma'] = np.nan\n",
    "disney_titles['Plataforma'].fillna('Disney', inplace=True)\n",
    "disney_titles.reset_index(drop=True, inplace=True)"
   ]
  },
  {
   "source": [
    "TRANSFORMACIÓN HULU"
   ],
   "cell_type": "markdown",
   "metadata": {}
  },
  {
   "cell_type": "code",
   "execution_count": 400,
   "metadata": {},
   "outputs": [],
   "source": [
    "# LEEMOS HULU COMMA SEPARATED VALUE FILE\n",
    "hulu_titles = pd.read_csv('hulu_titles-score.csv',delimiter = ',',encoding = \"utf-8\")"
   ]
  },
  {
   "cell_type": "code",
   "execution_count": 401,
   "metadata": {},
   "outputs": [],
   "source": [
    "# SE RELLENA LOS VALORES NULOS EN CAMPO RATING CON STRING 'G'\n",
    "\n",
    "hulu_titles['rating'].fillna('G', inplace=True)"
   ]
  },
  {
   "cell_type": "code",
   "execution_count": 403,
   "metadata": {},
   "outputs": [],
   "source": [
    "# Concateno columna de 'show_id' con prefijo 'h' para generar campo ID\n",
    "\n",
    "hulu_titles['id'] = 'h' + hulu_titles['show_id']"
   ]
  },
  {
   "cell_type": "code",
   "execution_count": 404,
   "metadata": {},
   "outputs": [],
   "source": [
    "# SE UTILIZA .TO_DATETIME PARA CAMBIAR EL FORMATO DE LA COLUMNA 'DATE_ADDED'\n",
    "hulu_titles['date_added'] = pd.to_datetime(hulu_titles['date_added'], infer_datetime_format=True, errors='coerce')"
   ]
  },
  {
   "cell_type": "code",
   "execution_count": 405,
   "metadata": {},
   "outputs": [],
   "source": [
    "# HULU PLUS - CAMPOS TEXTO A MINUSCULA\n",
    "\n",
    "hulu_titles['id'] = hulu_titles['id'].str.lower()\n",
    "hulu_titles['type'] = hulu_titles['type'].str.lower()\n",
    "hulu_titles['title'] = hulu_titles['title'].str.lower()\n",
    "hulu_titles['director'] = hulu_titles['director'].str.lower()\n",
    "hulu_titles['country'] = hulu_titles['country'].str.lower()\n",
    "hulu_titles['rating'] = hulu_titles['rating'].str.lower()\n",
    "hulu_titles['listed_in'] = hulu_titles['listed_in'].str.lower()\n",
    "hulu_titles['description'] = hulu_titles['description'].str.lower()\n"
   ]
  },
  {
   "cell_type": "code",
   "execution_count": 406,
   "metadata": {},
   "outputs": [],
   "source": [
    "# DIVISION COLUMNA 'DURATION'\n",
    "hulu_titles[['duration_int', 'duration_type']] = hulu_titles['duration'].str.split(' ', n=-1, expand=True, regex=None)\n",
    "hulu_titles = hulu_titles[hulu_titles.columns[:10].tolist() + ['duration_int', 'duration_type'] + hulu_titles.columns[10:-2].tolist()]"
   ]
  },
  {
   "cell_type": "code",
   "execution_count": 407,
   "metadata": {},
   "outputs": [],
   "source": [
    "#Agregar columna plataforma.\n",
    "\n",
    "hulu_titles['Plataforma'] = np.nan\n",
    "hulu_titles['Plataforma'].fillna('Hulu', inplace=True)\n",
    "hulu_titles.reset_index(drop=True, inplace=True)"
   ]
  },
  {
   "source": [
    "TRANSFORMACIÓN NETFLIX\n"
   ],
   "cell_type": "markdown",
   "metadata": {}
  },
  {
   "cell_type": "code",
   "execution_count": 408,
   "metadata": {},
   "outputs": [],
   "source": [
    "# LEEMOS NETFLIX COMMA SEPARATED VALUE FILE\n",
    "netflix_titles = pd.read_csv('netflix_titles-score.csv',delimiter = ',',encoding = \"utf-8\")"
   ]
  },
  {
   "cell_type": "code",
   "execution_count": 409,
   "metadata": {},
   "outputs": [],
   "source": [
    "# Concateno columna de 'show_id' con prefijo 'n' para generar campo ID\n",
    "\n",
    "netflix_titles['id'] = 'n' + netflix_titles['show_id']"
   ]
  },
  {
   "cell_type": "code",
   "execution_count": 410,
   "metadata": {},
   "outputs": [],
   "source": [
    "# SE RELLENA LOS VALORES NULOS EN CAMPO RATING CON STRING 'G'\n",
    "\n",
    "netflix_titles['rating'].fillna('G', inplace=True)"
   ]
  },
  {
   "cell_type": "code",
   "execution_count": 126,
   "metadata": {},
   "outputs": [],
   "source": [
    "# SE UTILIZA .TO_DATETIME PARA CAMBIAR EL FORMATO DE LA COLUMNA 'DATE_ADDED'\n",
    "netflix_titles['date_added'] = pd.to_datetime(netflix_titles['date_added'], infer_datetime_format=True, errors='coerce')"
   ]
  },
  {
   "cell_type": "code",
   "execution_count": 411,
   "metadata": {},
   "outputs": [],
   "source": [
    "# NETFLIX - CAMPOS TEXTO A MINUSCULA\n",
    "netflix_titles['id'] = netflix_titles['id'].str.lower()\n",
    "netflix_titles['type'] = netflix_titles['type'].str.lower()\n",
    "netflix_titles['title'] = netflix_titles['title'].str.lower()\n",
    "netflix_titles['director'] = netflix_titles['director'].str.lower()\n",
    "netflix_titles['cast'] = netflix_titles['cast'].str.lower()\n",
    "netflix_titles['country'] = netflix_titles['country'].str.lower()\n",
    "netflix_titles['rating'] = netflix_titles['rating'].str.lower()\n",
    "netflix_titles['listed_in'] = netflix_titles['listed_in'].str.lower()\n",
    "netflix_titles['description'] = netflix_titles['description'].str.lower()\n"
   ]
  },
  {
   "cell_type": "code",
   "execution_count": 412,
   "metadata": {},
   "outputs": [],
   "source": [
    "# DIVISION COLUMNA 'DURATION'\n",
    "netflix_titles[['duration_int', 'duration_type']] = netflix_titles['duration'].str.split(' ', n=-1, expand=True, regex=None)\n",
    "netflix_titles = netflix_titles[netflix_titles.columns[:10].tolist() + ['duration_int', 'duration_type'] + netflix_titles.columns[10:-2].tolist()]"
   ]
  },
  {
   "cell_type": "code",
   "execution_count": 413,
   "metadata": {},
   "outputs": [],
   "source": [
    "#Agregar columna plataforma.\n",
    "\n",
    "netflix_titles['Plataforma'] = np.nan\n",
    "netflix_titles['Plataforma'].fillna('Netflix', inplace=True)\n",
    "netflix_titles.reset_index(drop=True, inplace=True)"
   ]
  },
  {
   "cell_type": "code",
   "execution_count": 762,
   "metadata": {},
   "outputs": [],
   "source": [
    "#Unión de las 4 tablas en una.\n",
    "frames = [amazon_titles,disney_titles,hulu_titles,netflix_titles]\n",
    "dbtotal = pd.concat(frames)\n",
    "dbtotal.rename(columns={'title':'Titulo','duration':'Duracion','release_year':'Anio_estreno','type':'Tipo','listed_in':'Genero','cast':'Actores'}, inplace=True)"
   ]
  },
  {
   "cell_type": "code",
   "execution_count": 782,
   "metadata": {},
   "outputs": [],
   "source": [
    "#Aplicar transformaciones a los datos.\n",
    "#Columna Título.\n",
    "dbtotal['Titulo'] = dbtotal['Titulo'].apply(lambda x: x.replace('#',''),inplace=True)\n",
    "dbtotal['Titulo'] = dbtotal['Titulo'].apply(lambda x: x.replace('\"',''))\n",
    "dbtotal['Titulo'] = dbtotal['Titulo'].apply(lambda x: x.replace(\"'\",''))\n",
    "dbtotal['Titulo'] = dbtotal['Titulo'].apply(lambda x: x.replace('(Dub)',''))\n",
    "dbtotal['Titulo'] = dbtotal['Titulo'].apply(lambda x: x.replace('(Sub) ',''))\n",
    "dbtotal['Titulo'] = dbtotal['Titulo'].apply(lambda x: x.replace('.hack//',''))\n",
    "dbtotal['Titulo'] = dbtotal['Titulo'].apply(lambda x: x.replace(' (4K UHD)',''))\n",
    "dbtotal['Titulo'] = dbtotal['Titulo'].apply(lambda x: x.replace('(',''))\n",
    "dbtotal['Titulo'] = dbtotal['Titulo'].str.strip(to_strip=None)\n",
    "\n",
    "#Columna Duración.\n",
    "dbtotal['Duracion'].fillna('Sin dato', inplace=True)\n",
    "dbtotal['duration_int'] = pd.to_numeric(dbtotal['duration_int'], downcast='signed')\n",
    "\n"
   ]
  },
  {
   "cell_type": "code",
   "execution_count": 892,
   "metadata": {},
   "outputs": [],
   "source": [
    "# Consulta1. Cantidad de veces que aparece una keyword en el título de peliculas/series, por plataforma\n",
    "def get_word_count2(plataforma,keyword):\n",
    "    lista_plataforma = ['Amazon','Disney','Hulu','Netflix']\n",
    "    if plataforma in lista_plataforma:\n",
    "        consulta_1 = dbtotal[['Titulo','Plataforma']]\n",
    "        filt = consulta_1[consulta_1['Plataforma'] == plataforma]\n",
    "        resultado1 = filt['Titulo'].str.contains(keyword).sum()\n",
    "        return (f'La palabra: \"{keyword}\" se repite una cantidad de: - {resultado1} - veces en la Plataforma: {plataforma}')\n",
    "    else:\n",
    "        return (f'Los parámetros ingresados son incorrectos. Probar de Nuevo')   "
   ]
  },
  {
   "cell_type": "code",
   "execution_count": 893,
   "metadata": {},
   "outputs": [
    {
     "output_type": "execute_result",
     "data": {
      "text/plain": [
       "'La palabra: \"love\" se repite una cantidad de: - 196 - veces en la Plataforma: Netflix'"
      ]
     },
     "metadata": {},
     "execution_count": 893
    }
   ],
   "source": [
    "get_word_count2(\"Netflix\",'love')"
   ]
  },
  {
   "cell_type": "code",
   "execution_count": 871,
   "metadata": {},
   "outputs": [],
   "source": [
    "#Cantidad de películas por plataforma con un puntaje mayor a XX en determinado año\n",
    "def get_score_count(plataforma:str, xx:int, anio:int):\n",
    "    consulta_2= dbtotal[[\"Plataforma\",\"Anio_estreno\",\"score\"]]\n",
    "    resultado = consulta_2[(consulta_2['Plataforma']== plataforma)&(consulta_2['Anio_estreno']== anio)&(consulta_2['score']> xx)]\n",
    "    cantidad = len(resultado.index)\n",
    "    return (f'La cantidad de peliculas de la Plataforma: {plataforma}, con puntaje mayor a - {xx} - en el año {anio} es de: {cantidad} peliculas')"
   ]
  },
  {
   "cell_type": "code",
   "execution_count": 872,
   "metadata": {},
   "outputs": [
    {
     "output_type": "execute_result",
     "data": {
      "text/plain": [
       "'La cantidad de peliculas de la Plataforma: Netflix, con puntaje mayor a - 85 - en el año 2010 es de: 25 peliculas'"
      ]
     },
     "metadata": {},
     "execution_count": 872
    }
   ],
   "source": [
    "get_score_count('Netflix',85,2010)"
   ]
  },
  {
   "cell_type": "code",
   "execution_count": 865,
   "metadata": {},
   "outputs": [],
   "source": [
    "#La segunda película con mayor score para una plataforma determinada, según el orden alfabético de los títulos.\n",
    "def get_second_score(plataforma):\n",
    "    consulta_3 = dbtotal[['Titulo','Plataforma','score','Tipo',]]\n",
    "    consulta_3 = consulta_3[consulta_3.Tipo != 'tv show']\n",
    "    resultado = consulta_3[(consulta_3['Plataforma'] == plataforma)]\n",
    "    resultado = resultado[['Titulo','score']]\n",
    "    resultado = resultado.sort_values(['score','Titulo'],ascending=[False,True])\n",
    "    titulo = resultado['Titulo'].iloc[1]\n",
    "    score = resultado['score'].iloc[1]\n",
    "    return (f'La Segunda pelicula con mayor score de la Plataforma: {plataforma} , es {titulo} con un score de: {score}')"
   ]
  },
  {
   "cell_type": "code",
   "execution_count": 866,
   "metadata": {},
   "outputs": [
    {
     "output_type": "execute_result",
     "data": {
      "text/plain": [
       "'La Segunda pelicula con mayor score de la Plataforma: Amazon , es abilene town con un score de: 100'"
      ]
     },
     "metadata": {},
     "execution_count": 866
    }
   ],
   "source": [
    "get_second_score('Amazon')"
   ]
  },
  {
   "cell_type": "code",
   "execution_count": 858,
   "metadata": {},
   "outputs": [],
   "source": [
    "def get_longest(plataforma,tipo,anio):\n",
    "    anio = int(anio)\n",
    "    lista_plataforma = ['Amazon','Disney','Hulu','Netflix']\n",
    "    lista_tipo = ['min']\n",
    "    if (plataforma in lista_plataforma) and (tipo in lista_tipo) and (anio in range(dbtotal.Anio_estreno.min(),dbtotal.Anio_estreno.max()+1)):\n",
    "        df_d = dbtotal[['Plataforma','Titulo','Anio_estreno','Tipo','duration_int','duration_type']]\n",
    "        df_d =df_d[df_d.Tipo != 'tv show']\n",
    "        df_d = df_d[(df_d['Plataforma'] == plataforma)&(df_d['Anio_estreno'] == anio)]\n",
    "        resultado4 = df_d.sort_values('duration_int',ascending=False)\n",
    "        resultado4=resultado4[['Titulo','duration_int','duration_type']].iloc[0]\n",
    "        longest = resultado4['Titulo']\n",
    "        longest_time = resultado4['duration_int']\n",
    "        longest_time_type = resultado4['duration_type']\n",
    "        \n",
    "        return (f'La pelicula mas larga de la Plataforma: {plataforma} es {longest} con una duracion de {longest_time} {longest_time_type}')\n",
    "        \n",
    "    else:\n",
    "        return (f'Parametros incorrectos.Probar de Nuevo')"
   ]
  },
  {
   "cell_type": "code",
   "execution_count": 859,
   "metadata": {},
   "outputs": [
    {
     "output_type": "execute_result",
     "data": {
      "text/plain": [
       "'La pelicula mas larga de la Plataforma: Netflix es sairat con una duracion de 173.0 min'"
      ]
     },
     "metadata": {},
     "execution_count": 859
    }
   ],
   "source": [
    "get_longest('Netflix','min','2016')"
   ]
  },
  {
   "cell_type": "code",
   "execution_count": 790,
   "metadata": {},
   "outputs": [
    {
     "output_type": "execute_result",
     "data": {
      "text/plain": [
       "tv-ma        3675\n",
       "tv-14        3138\n",
       "r            2154\n",
       "13+          2117\n",
       "tv-pg        1654\n",
       "16+          1547\n",
       "g            1269\n",
       "all          1268\n",
       "18+          1243\n",
       "pg-13        1112\n",
       "pg            881\n",
       "tv-g          767\n",
       "tv-y7         550\n",
       "tv-y          462\n",
       "7+            385\n",
       "nr            304\n",
       "tv-nr         105\n",
       "1 season       42\n",
       "unrated        33\n",
       "tv-y7-fv       19\n",
       "89 min         11\n",
       "91 min          9\n",
       "80 min          9\n",
       "2 seasons       9\n",
       "90 min          9\n",
       "88 min          8\n",
       "94 min          8\n",
       "99 min          8\n",
       "85 min          8\n",
       "101 min         7\n",
       "Name: rating, dtype: int64"
      ]
     },
     "metadata": {},
     "execution_count": 790
    }
   ],
   "source": [
    "dbtotal['rating'].value_counts().head(30)"
   ]
  },
  {
   "cell_type": "code",
   "execution_count": 860,
   "metadata": {},
   "outputs": [],
   "source": [
    "# Cantidad de series y películas por rating\n",
    "def get_rating_count(rating):\n",
    "    consulta_5 = dbtotal[['rating']]\n",
    "    resultado_5 = len(consulta_5[(consulta_5['rating']== rating)])\n",
    "    \n",
    "    return (f'Hay un total de: {resultado_5} peliculas/series con Rating: {rating} ')"
   ]
  },
  {
   "cell_type": "code",
   "execution_count": 861,
   "metadata": {},
   "outputs": [
    {
     "output_type": "execute_result",
     "data": {
      "text/plain": [
       "'Hay un total de: 1243 peliculas/series con Rating: 18+ '"
      ]
     },
     "metadata": {},
     "execution_count": 861
    }
   ],
   "source": [
    "get_rating_count('18+')"
   ]
  },
  {
   "cell_type": "code",
   "execution_count": null,
   "metadata": {},
   "outputs": [],
   "source": []
  }
 ]
}
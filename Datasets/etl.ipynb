{
 "metadata": {
  "language_info": {
   "codemirror_mode": {
    "name": "ipython",
    "version": 3
   },
   "file_extension": ".py",
   "mimetype": "text/x-python",
   "name": "python",
   "nbconvert_exporter": "python",
   "pygments_lexer": "ipython3",
   "version": "3.10.0-final"
  },
  "orig_nbformat": 2,
  "kernelspec": {
   "name": "python3",
   "display_name": "Python 3.10.0 64-bit",
   "metadata": {
    "interpreter": {
     "hash": "98590ff4fe04c8543246b2a01debd3de3c5ca9b666f43f1fa87d5110c692004c"
    }
   }
  }
 },
 "nbformat": 4,
 "nbformat_minor": 2,
 "cells": [
  {
   "source": [
    "LIBRERIAS NECESARIAS PARA TRANSFORMACIÓN DE DATOS"
   ],
   "cell_type": "markdown",
   "metadata": {}
  },
  {
   "cell_type": "code",
   "execution_count": 1,
   "metadata": {},
   "outputs": [],
   "source": [
    "import pandas as pd\n",
    "import numpy as np"
   ]
  },
  {
   "source": [
    "TRANSFORMACIÓN DATOS AMAZON"
   ],
   "cell_type": "markdown",
   "metadata": {}
  },
  {
   "cell_type": "code",
   "execution_count": 4,
   "metadata": {},
   "outputs": [],
   "source": [
    "# LEEMOS AMAZON PRIME COMMA SEPARATED VALUE FILE\n",
    "amazon_titles = pd.read_csv('amazon_prime_titles-score.csv',delimiter = ',',encoding = \"utf-8\")"
   ]
  },
  {
   "cell_type": "code",
   "execution_count": 5,
   "metadata": {},
   "outputs": [],
   "source": [
    "# Concateno columna de 'show_id' con prefijo 'a' para generar campo ID\n",
    "amazon_titles['id'] = 'a' + amazon_titles['show_id']"
   ]
  },
  {
   "cell_type": "code",
   "execution_count": 6,
   "metadata": {},
   "outputs": [],
   "source": [
    "# SE RELLENA LOS VALORES NULOS EN CAMPO RATING CON STRING 'G'\n",
    "amazon_titles['rating'].fillna('G', inplace=True)"
   ]
  },
  {
   "cell_type": "code",
   "execution_count": 7,
   "metadata": {},
   "outputs": [],
   "source": [
    "# SE UTILIZA .TO_DATETIME PARA CAMBIAR EL FORMATO DE LA COLUMNA 'DATE_ADDED'\n",
    "amazon_titles['date_added'] = pd.to_datetime(amazon_titles['date_added'], infer_datetime_format=True, errors='coerce')"
   ]
  },
  {
   "cell_type": "code",
   "execution_count": 8,
   "metadata": {},
   "outputs": [],
   "source": [
    "# AMAZON PRIME\n",
    "amazon_titles['id'] = amazon_titles['id'].str.lower()\n",
    "amazon_titles['type'] = amazon_titles['type'].str.lower()\n",
    "amazon_titles['title'] = amazon_titles['title'].str.lower()\n",
    "amazon_titles['director'] = amazon_titles['director'].str.lower()\n",
    "amazon_titles['cast'] = amazon_titles['cast'].str.lower()\n",
    "amazon_titles['country'] = amazon_titles['country'].str.lower()\n",
    "amazon_titles['rating'] = amazon_titles['rating'].str.lower()\n",
    "amazon_titles['listed_in'] = amazon_titles['listed_in'].str.lower()\n",
    "amazon_titles['description'] = amazon_titles['description'].str.lower()\n"
   ]
  },
  {
   "cell_type": "code",
   "execution_count": 9,
   "metadata": {},
   "outputs": [],
   "source": [
    "# DIVISION COLUMNA 'DURATION'\n",
    "amazon_titles[['duration_int', 'duration_type']] = amazon_titles['duration'].str.split(' ', n=-1, expand=True, regex=None)\n",
    "amazon_titles = amazon_titles[amazon_titles.columns[:10].tolist() + ['duration_int', 'duration_type'] + amazon_titles.columns[10:-2].tolist()]"
   ]
  },
  {
   "cell_type": "code",
   "execution_count": 10,
   "metadata": {},
   "outputs": [],
   "source": [
    "amazon_titles['duration_type']=amazon_titles['duration_type'].map({'Seasons':'season',\n",
    "'Season':'season',\n",
    "'min':'min'})\n"
   ]
  },
  {
   "cell_type": "code",
   "execution_count": 11,
   "metadata": {},
   "outputs": [],
   "source": [
    "\n",
    "#Agregar columna plataforma.\n",
    "\n",
    "amazon_titles['Plataforma'] = np.nan\n",
    "amazon_titles['Plataforma'].fillna('Amazon', inplace=True)\n",
    "amazon_titles.reset_index(drop=True, inplace=True)"
   ]
  },
  {
   "source": [
    "TRANSFORMACIÓN DISNEY PLUS"
   ],
   "cell_type": "markdown",
   "metadata": {}
  },
  {
   "cell_type": "code",
   "execution_count": 12,
   "metadata": {},
   "outputs": [],
   "source": [
    "# LEEMOS DISNEY PLUS COMMA SEPARATED VALUE FILE\n",
    "disney_titles = pd.read_csv('disney_plus_titles-score.csv',delimiter = ',',encoding = \"utf-8\")"
   ]
  },
  {
   "cell_type": "code",
   "execution_count": 13,
   "metadata": {},
   "outputs": [],
   "source": [
    "# Concateno columna de 'show_id' con prefijo 'a' para generar campo ID\n",
    "\n",
    "disney_titles['id'] = 'd' + disney_titles['show_id']"
   ]
  },
  {
   "cell_type": "code",
   "execution_count": 14,
   "metadata": {},
   "outputs": [],
   "source": [
    "# SE RELLENA LOS VALORES NULOS EN CAMPO RATING CON STRING 'G'\n",
    "\n",
    "disney_titles['rating'].fillna('G', inplace=True)"
   ]
  },
  {
   "cell_type": "code",
   "execution_count": 15,
   "metadata": {},
   "outputs": [],
   "source": [
    "# SE UTILIZA .TO_DATETIME PARA CAMBIAR EL FORMATO DE LA COLUMNA 'DATE_ADDED'\n",
    "disney_titles['date_added'] = pd.to_datetime(disney_titles['date_added'], infer_datetime_format=True, errors='coerce')\n"
   ]
  },
  {
   "cell_type": "code",
   "execution_count": 16,
   "metadata": {},
   "outputs": [],
   "source": [
    "# DISNEY PLUS - CAMPOS TEXTO A MINUSCULA\n",
    "disney_titles['id'] = disney_titles['id'].str.lower()\n",
    "disney_titles['type'] = disney_titles['type'].str.lower()\n",
    "disney_titles['title'] = disney_titles['title'].str.lower()\n",
    "disney_titles['director'] = disney_titles['director'].str.lower()\n",
    "disney_titles['cast'] = disney_titles['cast'].str.lower()\n",
    "disney_titles['country'] = disney_titles['country'].str.lower()\n",
    "disney_titles['rating'] = disney_titles['rating'].str.lower()\n",
    "disney_titles['listed_in'] = disney_titles['listed_in'].str.lower()\n",
    "disney_titles['description'] = disney_titles['description'].str.lower()\n"
   ]
  },
  {
   "cell_type": "code",
   "execution_count": 17,
   "metadata": {},
   "outputs": [],
   "source": [
    "# DIVISION COLUMNA 'DURATION'\n",
    "disney_titles[['duration_int', 'duration_type']] = disney_titles['duration'].str.split(' ', n=-1, expand=True, regex=None)\n",
    "disney_titles = disney_titles[disney_titles.columns[:10].tolist() + ['duration_int', 'duration_type'] + disney_titles.columns[10:-2].tolist()]"
   ]
  },
  {
   "cell_type": "code",
   "execution_count": 18,
   "metadata": {},
   "outputs": [],
   "source": [
    "#Agregar columna plataforma.\n",
    "\n",
    "disney_titles['Plataforma'] = np.nan\n",
    "disney_titles['Plataforma'].fillna('Disney', inplace=True)\n",
    "disney_titles.reset_index(drop=True, inplace=True)"
   ]
  },
  {
   "source": [
    "TRANSFORMACIÓN HULU"
   ],
   "cell_type": "markdown",
   "metadata": {}
  },
  {
   "cell_type": "code",
   "execution_count": 19,
   "metadata": {},
   "outputs": [],
   "source": [
    "# LEEMOS HULU COMMA SEPARATED VALUE FILE\n",
    "hulu_titles = pd.read_csv('hulu_titles-score.csv',delimiter = ',',encoding = \"utf-8\")"
   ]
  },
  {
   "cell_type": "code",
   "execution_count": 20,
   "metadata": {},
   "outputs": [],
   "source": [
    "# SE RELLENA LOS VALORES NULOS EN CAMPO RATING CON STRING 'G'\n",
    "\n",
    "hulu_titles['rating'].fillna('G', inplace=True)"
   ]
  },
  {
   "cell_type": "code",
   "execution_count": 21,
   "metadata": {},
   "outputs": [],
   "source": [
    "# Concateno columna de 'show_id' con prefijo 'h' para generar campo ID\n",
    "\n",
    "hulu_titles['id'] = 'h' + hulu_titles['show_id']"
   ]
  },
  {
   "cell_type": "code",
   "execution_count": 22,
   "metadata": {},
   "outputs": [],
   "source": [
    "# SE UTILIZA .TO_DATETIME PARA CAMBIAR EL FORMATO DE LA COLUMNA 'DATE_ADDED'\n",
    "hulu_titles['date_added'] = pd.to_datetime(hulu_titles['date_added'], infer_datetime_format=True, errors='coerce')"
   ]
  },
  {
   "cell_type": "code",
   "execution_count": 23,
   "metadata": {},
   "outputs": [],
   "source": [
    "# HULU PLUS - CAMPOS TEXTO A MINUSCULA\n",
    "\n",
    "hulu_titles['id'] = hulu_titles['id'].str.lower()\n",
    "hulu_titles['type'] = hulu_titles['type'].str.lower()\n",
    "hulu_titles['title'] = hulu_titles['title'].str.lower()\n",
    "hulu_titles['director'] = hulu_titles['director'].str.lower()\n",
    "hulu_titles['country'] = hulu_titles['country'].str.lower()\n",
    "hulu_titles['rating'] = hulu_titles['rating'].str.lower()\n",
    "hulu_titles['listed_in'] = hulu_titles['listed_in'].str.lower()\n",
    "hulu_titles['description'] = hulu_titles['description'].str.lower()\n"
   ]
  },
  {
   "cell_type": "code",
   "execution_count": 24,
   "metadata": {},
   "outputs": [],
   "source": [
    "# DIVISION COLUMNA 'DURATION'\n",
    "hulu_titles[['duration_int', 'duration_type']] = hulu_titles['duration'].str.split(' ', n=-1, expand=True, regex=None)\n",
    "hulu_titles = hulu_titles[hulu_titles.columns[:10].tolist() + ['duration_int', 'duration_type'] + hulu_titles.columns[10:-2].tolist()]"
   ]
  },
  {
   "cell_type": "code",
   "execution_count": 25,
   "metadata": {},
   "outputs": [],
   "source": [
    "#Agregar columna plataforma.\n",
    "\n",
    "hulu_titles['Plataforma'] = np.nan\n",
    "hulu_titles['Plataforma'].fillna('Hulu', inplace=True)\n",
    "hulu_titles.reset_index(drop=True, inplace=True)"
   ]
  },
  {
   "source": [
    "TRANSFORMACIÓN NETFLIX\n"
   ],
   "cell_type": "markdown",
   "metadata": {}
  },
  {
   "cell_type": "code",
   "execution_count": 26,
   "metadata": {},
   "outputs": [],
   "source": [
    "# LEEMOS NETFLIX COMMA SEPARATED VALUE FILE\n",
    "netflix_titles = pd.read_csv('netflix_titles-score.csv',delimiter = ',',encoding = \"utf-8\")"
   ]
  },
  {
   "cell_type": "code",
   "execution_count": 27,
   "metadata": {},
   "outputs": [],
   "source": [
    "# Concateno columna de 'show_id' con prefijo 'n' para generar campo ID\n",
    "\n",
    "netflix_titles['id'] = 'n' + netflix_titles['show_id']"
   ]
  },
  {
   "cell_type": "code",
   "execution_count": 28,
   "metadata": {},
   "outputs": [],
   "source": [
    "# SE RELLENA LOS VALORES NULOS EN CAMPO RATING CON STRING 'G'\n",
    "\n",
    "netflix_titles['rating'].fillna('G', inplace=True)"
   ]
  },
  {
   "cell_type": "code",
   "execution_count": 29,
   "metadata": {},
   "outputs": [],
   "source": [
    "# SE UTILIZA .TO_DATETIME PARA CAMBIAR EL FORMATO DE LA COLUMNA 'DATE_ADDED'\n",
    "netflix_titles['date_added'] = pd.to_datetime(netflix_titles['date_added'], infer_datetime_format=True, errors='coerce')"
   ]
  },
  {
   "cell_type": "code",
   "execution_count": 30,
   "metadata": {},
   "outputs": [],
   "source": [
    "# NETFLIX - CAMPOS TEXTO A MINUSCULA\n",
    "netflix_titles['id'] = netflix_titles['id'].str.lower()\n",
    "netflix_titles['type'] = netflix_titles['type'].str.lower()\n",
    "netflix_titles['title'] = netflix_titles['title'].str.lower()\n",
    "netflix_titles['director'] = netflix_titles['director'].str.lower()\n",
    "netflix_titles['cast'] = netflix_titles['cast'].str.lower()\n",
    "netflix_titles['country'] = netflix_titles['country'].str.lower()\n",
    "netflix_titles['rating'] = netflix_titles['rating'].str.lower()\n",
    "netflix_titles['listed_in'] = netflix_titles['listed_in'].str.lower()\n",
    "netflix_titles['description'] = netflix_titles['description'].str.lower()\n"
   ]
  },
  {
   "cell_type": "code",
   "execution_count": 31,
   "metadata": {},
   "outputs": [],
   "source": [
    "# DIVISION COLUMNA 'DURATION'\n",
    "netflix_titles[['duration_int', 'duration_type']] = netflix_titles['duration'].str.split(' ', n=-1, expand=True, regex=None)\n",
    "netflix_titles = netflix_titles[netflix_titles.columns[:10].tolist() + ['duration_int', 'duration_type'] + netflix_titles.columns[10:-2].tolist()]"
   ]
  },
  {
   "cell_type": "code",
   "execution_count": 32,
   "metadata": {},
   "outputs": [],
   "source": [
    "#Agregar columna plataforma.\n",
    "\n",
    "netflix_titles['Plataforma'] = np.nan\n",
    "netflix_titles['Plataforma'].fillna('Netflix', inplace=True)\n",
    "netflix_titles.reset_index(drop=True, inplace=True)"
   ]
  },
  {
   "cell_type": "code",
   "execution_count": 33,
   "metadata": {},
   "outputs": [],
   "source": [
    "#Unión de las 4 tablas en una.\n",
    "frames = [amazon_titles,disney_titles,hulu_titles,netflix_titles]\n",
    "dbtotal = pd.concat(frames)\n",
    "dbtotal.rename(columns={'title':'Titulo','duration':'Duracion','release_year':'Anio_estreno','type':'Tipo','listed_in':'Genero','cast':'Actores'}, inplace=True)"
   ]
  },
  {
   "cell_type": "code",
   "execution_count": 34,
   "metadata": {},
   "outputs": [],
   "source": [
    "#Aplicar transformaciones a los datos.\n",
    "#Columna Título.\n",
    "dbtotal['Titulo'] = dbtotal['Titulo'].apply(lambda x: x.replace('#',''))\n",
    "dbtotal['Titulo'] = dbtotal['Titulo'].apply(lambda x: x.replace('\"',''))\n",
    "dbtotal['Titulo'] = dbtotal['Titulo'].apply(lambda x: x.replace(\"'\",''))\n",
    "dbtotal['Titulo'] = dbtotal['Titulo'].apply(lambda x: x.replace('(Dub)',''))\n",
    "dbtotal['Titulo'] = dbtotal['Titulo'].apply(lambda x: x.replace('(Sub) ',''))\n",
    "dbtotal['Titulo'] = dbtotal['Titulo'].apply(lambda x: x.replace('.hack//',''))\n",
    "dbtotal['Titulo'] = dbtotal['Titulo'].apply(lambda x: x.replace(' (4K UHD)',''))\n",
    "dbtotal['Titulo'] = dbtotal['Titulo'].apply(lambda x: x.replace('(',''))\n",
    "dbtotal['Titulo'] = dbtotal['Titulo'].str.strip(to_strip=None)\n",
    "\n",
    "#Columna Duración.\n",
    "dbtotal['Duracion'].fillna('Sin dato', inplace=True)\n",
    "dbtotal['duration_int'] = pd.to_numeric(dbtotal['duration_int'], downcast='signed')\n",
    "\n"
   ]
  },
  {
   "cell_type": "code",
   "execution_count": 44,
   "metadata": {},
   "outputs": [],
   "source": [
    "dbtotal.to_csv('database_plataformas.csv', index=False)"
   ]
  }
 ]
}